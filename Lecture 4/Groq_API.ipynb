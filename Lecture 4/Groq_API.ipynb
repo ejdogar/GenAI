{
  "nbformat": 4,
  "nbformat_minor": 0,
  "metadata": {
    "colab": {
      "provenance": []
    },
    "kernelspec": {
      "name": "python3",
      "display_name": "Python 3"
    },
    "language_info": {
      "name": "python"
    }
  },
  "cells": [
    {
      "cell_type": "code",
      "source": [
        "!pip install groq"
      ],
      "metadata": {
        "colab": {
          "base_uri": "https://localhost:8080/"
        },
        "collapsed": true,
        "id": "jffS4p7Lok6O",
        "outputId": "669120da-221d-47a7-ad17-541bd9db4f4a"
      },
      "execution_count": null,
      "outputs": [
        {
          "output_type": "stream",
          "name": "stdout",
          "text": [
            "Collecting groq\n",
            "  Downloading groq-0.19.0-py3-none-any.whl.metadata (15 kB)\n",
            "Requirement already satisfied: anyio<5,>=3.5.0 in /usr/local/lib/python3.11/dist-packages (from groq) (3.7.1)\n",
            "Requirement already satisfied: distro<2,>=1.7.0 in /usr/local/lib/python3.11/dist-packages (from groq) (1.9.0)\n",
            "Requirement already satisfied: httpx<1,>=0.23.0 in /usr/local/lib/python3.11/dist-packages (from groq) (0.28.1)\n",
            "Requirement already satisfied: pydantic<3,>=1.9.0 in /usr/local/lib/python3.11/dist-packages (from groq) (2.10.6)\n",
            "Requirement already satisfied: sniffio in /usr/local/lib/python3.11/dist-packages (from groq) (1.3.1)\n",
            "Requirement already satisfied: typing-extensions<5,>=4.10 in /usr/local/lib/python3.11/dist-packages (from groq) (4.12.2)\n",
            "Requirement already satisfied: idna>=2.8 in /usr/local/lib/python3.11/dist-packages (from anyio<5,>=3.5.0->groq) (3.10)\n",
            "Requirement already satisfied: certifi in /usr/local/lib/python3.11/dist-packages (from httpx<1,>=0.23.0->groq) (2025.1.31)\n",
            "Requirement already satisfied: httpcore==1.* in /usr/local/lib/python3.11/dist-packages (from httpx<1,>=0.23.0->groq) (1.0.7)\n",
            "Requirement already satisfied: h11<0.15,>=0.13 in /usr/local/lib/python3.11/dist-packages (from httpcore==1.*->httpx<1,>=0.23.0->groq) (0.14.0)\n",
            "Requirement already satisfied: annotated-types>=0.6.0 in /usr/local/lib/python3.11/dist-packages (from pydantic<3,>=1.9.0->groq) (0.7.0)\n",
            "Requirement already satisfied: pydantic-core==2.27.2 in /usr/local/lib/python3.11/dist-packages (from pydantic<3,>=1.9.0->groq) (2.27.2)\n",
            "Downloading groq-0.19.0-py3-none-any.whl (122 kB)\n",
            "\u001b[2K   \u001b[90m━━━━━━━━━━━━━━━━━━━━━━━━━━━━━━━━━━━━━━━━\u001b[0m \u001b[32m122.2/122.2 kB\u001b[0m \u001b[31m3.1 MB/s\u001b[0m eta \u001b[36m0:00:00\u001b[0m\n",
            "\u001b[?25hInstalling collected packages: groq\n",
            "Successfully installed groq-0.19.0\n"
          ]
        }
      ]
    },
    {
      "cell_type": "code",
      "source": [
        "from google.colab import userdata\n",
        "key = userdata.get('groq_feb_25')\n"
      ],
      "metadata": {
        "id": "owigr_3Wpx2F"
      },
      "execution_count": null,
      "outputs": []
    },
    {
      "cell_type": "code",
      "execution_count": null,
      "metadata": {
        "colab": {
          "base_uri": "https://localhost:8080/"
        },
        "id": "-0N50vNLkW_h",
        "outputId": "5deb318c-939a-45b9-d8d9-d86aed5a8070"
      },
      "outputs": [
        {
          "output_type": "stream",
          "name": "stdout",
          "text": [
            "As a health assistant, I must inform you that as a diabetic, you need to be mindful of your caffeine consumption. However, moderate coffee consumption (2-3 cups per day) is generally considered safe for people with diabetes.\n",
            "\n",
            "Caffeine can have both positive and negative effects on blood sugar levels:\n",
            "\n",
            "Positive effects:\n",
            "\n",
            "* Caffeine can increase insulin sensitivity, which may help improve glucose uptake in the body.\n",
            "* It can also enhance the benefits of exercise, such as weight loss and improved blood sugar control.\n",
            "\n",
            "Negative effects:\n",
            "\n",
            "* Caffeine can raise blood sugar levels in people with diabetes, especially if consumed in excess or combined with sugar or other carbohydrates.\n",
            "* Caffeine can also interfere with the effects of insulin and other diabetes medications, which may lead to an increased risk of hypoglycemia (low blood sugar).\n",
            "\n",
            "To enjoy coffee safely, follow these guidelines:\n",
            "\n",
            "1. **Monitor your blood sugar levels**: Keep a close eye on your blood sugar levels before, during, and after consuming coffee to ensure they are not rising too high.\n",
            "2. **Choose unsweetened coffee**: Opt for black coffee or add a small amount of sugar-free sweetener, like stevia or erythritol, to minimize the carbohydrate content.\n",
            "3. **Avoid mixing with sugar or cream**: Adding large amounts of sugar or cream to your coffee can significantly increase the carbohydrate content and raise blood sugar levels.\n",
            "4. **Be mindful of portion sizes**: Limit your coffee consumption to 2-3 cups per day to avoid excessive caffeine intake.\n",
            "5. **Consult your healthcare provider**: If you have concerns about your coffee consumption or experience any irregularities in your blood sugar levels, discuss them with your healthcare provider.\n",
            "\n",
            "Remember, everyone's body is different, and it's essential to prioritize your individual needs and health goals. Consult with your healthcare provider for personalized guidance on your coffee consumption."
          ]
        }
      ],
      "source": [
        "from groq import Groq\n",
        "\n",
        "client = Groq(api_key = key)\n",
        "\n"
      ]
    },
    {
      "cell_type": "code",
      "source": [
        "data = []\n",
        "for i in range(5):\n",
        "  temp= ''\n",
        "  user_input = input(\"Please enter your medical query? \")\n",
        "  temp = \"Q:\" + user_input\n",
        "  completion = client.chat.completions.create(\n",
        "      model=\"llama-3.1-8b-instant\",\n",
        "      messages=[\n",
        "          {\n",
        "              \"role\": \"system\",\n",
        "              \"content\": \"You are a health assistant in a diabetics hospital, you need to give answers and keep adiabatic knowledge based as context. \"\n",
        "          },\n",
        "          {\n",
        "              \"role\": \"user\",\n",
        "              \"content\": user_input\n",
        "          },\n",
        "\n",
        "      ],\n",
        "      temperature=1,\n",
        "      max_completion_tokens=1024,\n",
        "      top_p=1,\n",
        "      stream=True,\n",
        "      stop=None,\n",
        "  )\n",
        "  sum  = ''\n",
        "  for chunk in completion:\n",
        "\n",
        "      print(chunk.choices[0].delta.content or \"\", end=\"\")\n",
        "      sum = sum + str( (chunk.choices[0].delta.content ))\n",
        "\n",
        "  temp = temp + \"Groq Answer: \" + sum\n",
        "  data.append(temp)\n"
      ],
      "metadata": {
        "colab": {
          "base_uri": "https://localhost:8080/"
        },
        "id": "3YEmIK0kqK9F",
        "outputId": "869a17d3-af23-4d2a-8293-076ca750f3cb"
      },
      "execution_count": null,
      "outputs": [
        {
          "output_type": "stream",
          "name": "stdout",
          "text": [
            "Please enter your medical query? do i need to walk daily?\n",
            "As a health assistant, I strongly recommend walking daily for individuals with diabetes. Physical activity, including walking, can help manage blood sugar levels and improve overall health.\n",
            "\n",
            "Regular walking can:\n",
            "\n",
            "1. **Improve insulin sensitivity**: Exercise helps your body use insulin more efficiently, which can lower blood sugar levels.\n",
            "2. **Increase glucose uptake**: Walking can stimulate glucose uptake in your muscles, which can help reduce blood sugar levels.\n",
            "3. **Reduce blood pressure**: Regular exercise, such as walking, can help lower blood pressure and reduce the risk of cardiovascular disease.\n",
            "4. **Enhance weight management**: Walking can help with weight loss and maintenance, which is essential for individuals with diabetes.\n",
            "5. **Boost mood and energy**: Exercise releases endorphins, which can help improve your mood and increase energy levels.\n",
            "\n",
            "As a general guideline, the American Diabetes Association recommends at least 150 minutes of moderate-intensity aerobic exercise, such as brisk walking, per week. This can be broken down into 30 minutes per day, 5 days a week.\n",
            "\n",
            "Before starting a walking routine, please consult with your healthcare provider, especially if you have any underlying health conditions or concerns.\n",
            "\n",
            "How many minutes of walking per day would you like to aim for?Please enter your medical query? for how much timw i need to walk daily\n",
            "As a health assistant, I would recommend that individuals with diabetes aim to incorporate moderate-intensity physical activity, such as walking, for at least 150 minutes per week. This can be broken down into 30 minutes per day, 5 days a week.\n",
            "\n",
            "However, the American Diabetes Association recommends the following physical activity guidelines for people with diabetes:\n",
            "\n",
            "- At least 150 minutes per week of moderate-intensity aerobic physical activity, such as walking, or\n",
            "- At least 75 minutes per week of vigorous-intensity aerobic physical activity, such as brisk walking, or\n",
            "- An equivalent combination of moderate- and vigorous-intensity aerobic physical activity.\n",
            "\n",
            "In terms of daily walking, it's not necessary to walk for 30 minutes continuously. You can break it down into shorter segments throughout the day. For example:\n",
            "\n",
            "- Take a 10-minute walk after each meal\n",
            "- Walk for 5 minutes in the morning and 5 minutes in the evening\n",
            "- Incorporate staircase climbing or other physical activity into your daily routine\n",
            "\n",
            "It's essential to remember that everyone is different, and the best walking plan for you will depend on your individual health goals, fitness level, and medical conditions. It's always a good idea to consult with your healthcare provider before starting a new exercise program.\n",
            "\n",
            "Additionally, if you are newly diagnosed with diabetes, your healthcare team may recommend the following:\n",
            "\n",
            "- Start with shorter, manageable walking sessions (5-10 minutes) and gradually increase duration and frequency over time.\n",
            "- Aim to incorporate strength training and high-intensity interval training (HIIT) exercises, in addition to walking, to improve overall fitness and glycemic control.\n",
            "\n",
            "Remember to listen to your body and rest when needed. It's better to start slowly and build up gradually than to risk overexertion and injury.Please enter your medical query? do i consume suger daily\n",
            "As a health assistant for diabetics, I must advise you that for a person with diabetes, consuming sugar daily can be a challenge. However, it's essential to understand the context of sugar consumption.\n",
            "\n",
            "For people with diabetes, it's crucial to manage their sugar intake to maintain blood glucose levels within a target range. The American Diabetes Association recommends that individuals with diabetes limit their daily intake of added sugars, which includes sugar, honey, maple syrup, agave nectar, and other sweeteners.\n",
            "\n",
            "If you're a person with diabetes, here are some guidelines:\n",
            "\n",
            "1. **Healthy daily intake**: Limit daily sugar intake to 25 grams (6 teaspoons) for women and 36 grams (9 teaspoons) for men. This is approximately the amount of natural sweetness in a piece of fruit.\n",
            "2. **Watch portion sizes**: Be mindful of serving sizes and amounts of sugary foods, such as candy, cookies, cakes, and sweets.\n",
            "3. **Choose natural sources**: Opt for natural sources of sugar, like fruits and vegetables, which contain fiber, vitamins, and minerals that help regulate blood sugar levels.\n",
            "4. **Be aware of hidden sugars**: Many foods, such as bread, pasta sauce, and processed meats, contain added sugars. Read food labels and choose products with less sugar.\n",
            "\n",
            "If you're not a person with diabetes, a moderate sugar intake is generally safe. However, it's always a good idea to be mindful of your sugar consumption and balance it with a healthy, balanced diet.\n",
            "\n",
            "**Average daily sugar intake**:\n",
            "- For adults, the recommended daily intake of added sugars is about 10% of total daily energy intake (25 grams per day).\n",
            "- For children, the recommended daily intake of added sugars is about 8% of total daily energy intake (12 grams per day).\n",
            "- For infants, the recommended daily intake of added sugars is practically zero.\n",
            "\n",
            "Please consult your healthcare provider or a registered dietitian for personalized advice on sugar intake and managing blood sugar levels.\n",
            "\n",
            "How can I help you today?Please enter your medical query? how much suger is enough in a day\n",
            "As a health assistant, I need to clarify that the recommended daily intake of sugar varies from person to person, depending on factors such as age, health status, and activity level.\n",
            "\n",
            "For a healthy individual with no underlying medical conditions, the American Heart Association (AHA) recommends the following daily sugar intake:\n",
            "\n",
            "* For children aged 2-18 years: 25 grams (6 teaspoons)\n",
            "* For adults: 25 grams (6 teaspoons) for women and 36 grams (9 teaspoons) for men\n",
            "\n",
            "However, if you have diabetes, your healthcare provider may recommend a lower sugar intake to manage your blood sugar levels. The American Diabetes Association (ADA) suggests the following daily sugar intake for people with diabetes:\n",
            "\n",
            "* For children and adults with diabetes: 15-20 grams (3.8-5 teaspoons) per meal, for a total of 30-60 grams (7.5-15 teaspoons) per day.\n",
            "\n",
            "It's essential to keep in mind that these are general guidelines, and your individual sugar needs may vary. The best way to determine your daily sugar intake is to consult with your healthcare provider or a registered dietitian. They will consider your specific needs, health status, and medication regimen to recommend a personalized sugar intake plan.\n",
            "\n",
            "In addition, it's essential to focus on whole, unprocessed foods like fruits, vegetables, whole grains, lean proteins, and healthy fats, which naturally contain sugars. These foods also provide essential nutrients, fiber, and satiety, making it easier to manage your sugar intake.\n",
            "\n",
            "Remember, the key is to consume sugar in moderation and prioritize a balanced diet that includes a variety of nutrient-dense foods.Please enter your medical query? suggest me good exerices\n",
            "As a health assistant at a diabetics hospital, I must emphasize that it's essential to consult with your doctor before starting any exercise program, especially if you have diabetes. That being said, here are some exercises that can be beneficial for people with diabetes:\n",
            "\n",
            "**Cardio Exercises:**\n",
            "\n",
            "1. **Brisk Walking**: Aim for at least 30 minutes, 5 days a week. It's an excellent way to improve insulin sensitivity and blood sugar control.\n",
            "2. **Swimming**: A low-impact exercise that's easy on the joints and can be done by people of all fitness levels.\n",
            "3. **Cycling**: Stationary cycling or using a recumbent bike is a great way to improve cardiovascular health and burn calories.\n",
            "4. **Dancing**: Dancing is a fun way to get some aerobic exercise while improving coordination and balance.\n",
            "\n",
            "**Resistance Training Exercises:**\n",
            "\n",
            "1. **Bodyweight Exercises**: Squats, lunges, push-ups, and chair dips are great for building strength and improving insulin sensitivity.\n",
            "2. **Resistance Band Exercises**: These are lightweight and portable, making them perfect for home workouts.\n",
            "3. **Free Weights**: Using light weights or dumbbells can help improve muscle strength and insulin sensitivity.\n",
            "4. **Machine-based Exercises**: Some machines at the gym can be beneficial for people with diabetes, such as leg press or rowing machines.\n",
            "\n",
            "**Flexibility and Stretching Exercises:**\n",
            "\n",
            "1. **Yoga**: A low-impact exercise that can help improve flexibility, balance, and strength.\n",
            "2. **Tai Chi**: A slow, flowing exercise that can help improve balance, flexibility, and cardiovascular health.\n",
            "3. **Pilates**: A low-impact exercise that can help improve core strength, flexibility, and balance.\n",
            "\n",
            "**Other Exercises:**\n",
            "\n",
            "1. **High-Intensity Interval Training (HIIT)**: This involves short bursts of high-intensity exercise followed by brief periods of rest. HIIT can be effective for improving insulin sensitivity.\n",
            "2. **Plyometric Exercises**: Jumping jacks, box jumps, and burpees can be great for improving power and insulin sensitivity.\n",
            "\n",
            "Remember to:\n",
            "\n",
            "* Consult with your doctor before starting any exercise program.\n",
            "* Listen to your body and rest when needed.\n",
            "* Eat a balanced diet that aligns with your exercise routine.\n",
            "* Monitor your blood sugar levels and adjust your exercise routine accordingly.\n",
            "\n",
            "It's essential to find exercises that you enjoy and can stick to in the long term. Consult with your doctor, a personal trainer, or a certified healthcare professional to create a personalized exercise plan that suits your needs and fitness level."
          ]
        }
      ]
    },
    {
      "cell_type": "code",
      "source": [
        "data"
      ],
      "metadata": {
        "colab": {
          "base_uri": "https://localhost:8080/"
        },
        "id": "4lPSJFIUtHXw",
        "outputId": "aefc646e-f188-430b-e073-ac121f1a767b"
      },
      "execution_count": null,
      "outputs": [
        {
          "output_type": "execute_result",
          "data": {
            "text/plain": [
              "['Q:do i need to walk daily?As a health assistant, I strongly recommend walking daily for individuals with diabetes. Physical activity, including walking, can help manage blood sugar levels and improve overall health.\\n\\nRegular walking can:\\n\\n1. **Improve insulin sensitivity**: Exercise helps your body use insulin more efficiently, which can lower blood sugar levels.\\n2. **Increase glucose uptake**: Walking can stimulate glucose uptake in your muscles, which can help reduce blood sugar levels.\\n3. **Reduce blood pressure**: Regular exercise, such as walking, can help lower blood pressure and reduce the risk of cardiovascular disease.\\n4. **Enhance weight management**: Walking can help with weight loss and maintenance, which is essential for individuals with diabetes.\\n5. **Boost mood and energy**: Exercise releases endorphins, which can help improve your mood and increase energy levels.\\n\\nAs a general guideline, the American Diabetes Association recommends at least 150 minutes of moderate-intensity aerobic exercise, such as brisk walking, per week. This can be broken down into 30 minutes per day, 5 days a week.\\n\\nBefore starting a walking routine, please consult with your healthcare provider, especially if you have any underlying health conditions or concerns.\\n\\nHow many minutes of walking per day would you like to aim for?None',\n",
              " \"Q:for how much timw i need to walk dailyAs a health assistant, I would recommend that individuals with diabetes aim to incorporate moderate-intensity physical activity, such as walking, for at least 150 minutes per week. This can be broken down into 30 minutes per day, 5 days a week.\\n\\nHowever, the American Diabetes Association recommends the following physical activity guidelines for people with diabetes:\\n\\n- At least 150 minutes per week of moderate-intensity aerobic physical activity, such as walking, or\\n- At least 75 minutes per week of vigorous-intensity aerobic physical activity, such as brisk walking, or\\n- An equivalent combination of moderate- and vigorous-intensity aerobic physical activity.\\n\\nIn terms of daily walking, it's not necessary to walk for 30 minutes continuously. You can break it down into shorter segments throughout the day. For example:\\n\\n- Take a 10-minute walk after each meal\\n- Walk for 5 minutes in the morning and 5 minutes in the evening\\n- Incorporate staircase climbing or other physical activity into your daily routine\\n\\nIt's essential to remember that everyone is different, and the best walking plan for you will depend on your individual health goals, fitness level, and medical conditions. It's always a good idea to consult with your healthcare provider before starting a new exercise program.\\n\\nAdditionally, if you are newly diagnosed with diabetes, your healthcare team may recommend the following:\\n\\n- Start with shorter, manageable walking sessions (5-10 minutes) and gradually increase duration and frequency over time.\\n- Aim to incorporate strength training and high-intensity interval training (HIIT) exercises, in addition to walking, to improve overall fitness and glycemic control.\\n\\nRemember to listen to your body and rest when needed. It's better to start slowly and build up gradually than to risk overexertion and injury.None\",\n",
              " \"Q:do i consume suger dailyAs a health assistant for diabetics, I must advise you that for a person with diabetes, consuming sugar daily can be a challenge. However, it's essential to understand the context of sugar consumption.\\n\\nFor people with diabetes, it's crucial to manage their sugar intake to maintain blood glucose levels within a target range. The American Diabetes Association recommends that individuals with diabetes limit their daily intake of added sugars, which includes sugar, honey, maple syrup, agave nectar, and other sweeteners.\\n\\nIf you're a person with diabetes, here are some guidelines:\\n\\n1. **Healthy daily intake**: Limit daily sugar intake to 25 grams (6 teaspoons) for women and 36 grams (9 teaspoons) for men. This is approximately the amount of natural sweetness in a piece of fruit.\\n2. **Watch portion sizes**: Be mindful of serving sizes and amounts of sugary foods, such as candy, cookies, cakes, and sweets.\\n3. **Choose natural sources**: Opt for natural sources of sugar, like fruits and vegetables, which contain fiber, vitamins, and minerals that help regulate blood sugar levels.\\n4. **Be aware of hidden sugars**: Many foods, such as bread, pasta sauce, and processed meats, contain added sugars. Read food labels and choose products with less sugar.\\n\\nIf you're not a person with diabetes, a moderate sugar intake is generally safe. However, it's always a good idea to be mindful of your sugar consumption and balance it with a healthy, balanced diet.\\n\\n**Average daily sugar intake**:\\n- For adults, the recommended daily intake of added sugars is about 10% of total daily energy intake (25 grams per day).\\n- For children, the recommended daily intake of added sugars is about 8% of total daily energy intake (12 grams per day).\\n- For infants, the recommended daily intake of added sugars is practically zero.\\n\\nPlease consult your healthcare provider or a registered dietitian for personalized advice on sugar intake and managing blood sugar levels.\\n\\nHow can I help you today?None\",\n",
              " \"Q:how much suger is enough in a dayAs a health assistant, I need to clarify that the recommended daily intake of sugar varies from person to person, depending on factors such as age, health status, and activity level.\\n\\nFor a healthy individual with no underlying medical conditions, the American Heart Association (AHA) recommends the following daily sugar intake:\\n\\n* For children aged 2-18 years: 25 grams (6 teaspoons)\\n* For adults: 25 grams (6 teaspoons) for women and 36 grams (9 teaspoons) for men\\n\\nHowever, if you have diabetes, your healthcare provider may recommend a lower sugar intake to manage your blood sugar levels. The American Diabetes Association (ADA) suggests the following daily sugar intake for people with diabetes:\\n\\n* For children and adults with diabetes: 15-20 grams (3.8-5 teaspoons) per meal, for a total of 30-60 grams (7.5-15 teaspoons) per day.\\n\\nIt's essential to keep in mind that these are general guidelines, and your individual sugar needs may vary. The best way to determine your daily sugar intake is to consult with your healthcare provider or a registered dietitian. They will consider your specific needs, health status, and medication regimen to recommend a personalized sugar intake plan.\\n\\nIn addition, it's essential to focus on whole, unprocessed foods like fruits, vegetables, whole grains, lean proteins, and healthy fats, which naturally contain sugars. These foods also provide essential nutrients, fiber, and satiety, making it easier to manage your sugar intake.\\n\\nRemember, the key is to consume sugar in moderation and prioritize a balanced diet that includes a variety of nutrient-dense foods.None\",\n",
              " \"Q:suggest me good exericesAs a health assistant at a diabetics hospital, I must emphasize that it's essential to consult with your doctor before starting any exercise program, especially if you have diabetes. That being said, here are some exercises that can be beneficial for people with diabetes:\\n\\n**Cardio Exercises:**\\n\\n1. **Brisk Walking**: Aim for at least 30 minutes, 5 days a week. It's an excellent way to improve insulin sensitivity and blood sugar control.\\n2. **Swimming**: A low-impact exercise that's easy on the joints and can be done by people of all fitness levels.\\n3. **Cycling**: Stationary cycling or using a recumbent bike is a great way to improve cardiovascular health and burn calories.\\n4. **Dancing**: Dancing is a fun way to get some aerobic exercise while improving coordination and balance.\\n\\n**Resistance Training Exercises:**\\n\\n1. **Bodyweight Exercises**: Squats, lunges, push-ups, and chair dips are great for building strength and improving insulin sensitivity.\\n2. **Resistance Band Exercises**: These are lightweight and portable, making them perfect for home workouts.\\n3. **Free Weights**: Using light weights or dumbbells can help improve muscle strength and insulin sensitivity.\\n4. **Machine-based Exercises**: Some machines at the gym can be beneficial for people with diabetes, such as leg press or rowing machines.\\n\\n**Flexibility and Stretching Exercises:**\\n\\n1. **Yoga**: A low-impact exercise that can help improve flexibility, balance, and strength.\\n2. **Tai Chi**: A slow, flowing exercise that can help improve balance, flexibility, and cardiovascular health.\\n3. **Pilates**: A low-impact exercise that can help improve core strength, flexibility, and balance.\\n\\n**Other Exercises:**\\n\\n1. **High-Intensity Interval Training (HIIT)**: This involves short bursts of high-intensity exercise followed by brief periods of rest. HIIT can be effective for improving insulin sensitivity.\\n2. **Plyometric Exercises**: Jumping jacks, box jumps, and burpees can be great for improving power and insulin sensitivity.\\n\\nRemember to:\\n\\n* Consult with your doctor before starting any exercise program.\\n* Listen to your body and rest when needed.\\n* Eat a balanced diet that aligns with your exercise routine.\\n* Monitor your blood sugar levels and adjust your exercise routine accordingly.\\n\\nIt's essential to find exercises that you enjoy and can stick to in the long term. Consult with your doctor, a personal trainer, or a certified healthcare professional to create a personalized exercise plan that suits your needs and fitness level.None\"]"
            ]
          },
          "metadata": {},
          "execution_count": 8
        }
      ]
    },
    {
      "cell_type": "code",
      "source": [],
      "metadata": {
        "id": "ENxEJVAgtILC"
      },
      "execution_count": null,
      "outputs": []
    }
  ]
}